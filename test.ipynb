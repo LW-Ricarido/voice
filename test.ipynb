{
 "cells": [
  {
   "cell_type": "code",
   "execution_count": 2,
   "metadata": {},
   "outputs": [
    {
     "name": "stdout",
     "output_type": "stream",
     "text": [
      "1000\n",
      "(900,)\n"
     ]
    }
   ],
   "source": [
    "import numpy as np\n",
    "#from development import train_softmax\n",
    "from input.input_feature import *\n",
    "\n",
    "dataset = AudioDataset(files_path='voiceprint_training/voiceprint_training/info.csv',\n",
    "                       audio_dir='voiceprint_training/voiceprint_training/data',\n",
    "                      transform=Compose([CMVN(), \n",
    "                                         Feature_Cube(cube_shape=(20, 80, 40), \n",
    "                                                      augmentation=True), ToOutput()]))\n",
    "x,y =dataset.getData(1000)\n",
    "data = {}\n",
    "data['x_train'] = np.array(x[:900])\n",
    "data['x_test'] = np.array(x[901:])\n",
    "data['y_train'] = np.array( y[:900])\n",
    "data['y_test'] = np.array(y[901:])\n",
    "print(data['x_train'].shape)\n",
    "#train_softmax.init(data, epochs = 2)"
   ]
  },
  {
   "cell_type": "code",
   "execution_count": 7,
   "metadata": {},
   "outputs": [
    {
     "name": "stdout",
     "output_type": "stream",
     "text": [
      "(454, 40)\n"
     ]
    }
   ],
   "source": [
    "print(data['x_train'][0].shape)\n",
    "a = np.array(data['x_train'][0])"
   ]
  },
  {
   "cell_type": "code",
   "execution_count": null,
   "metadata": {},
   "outputs": [],
   "source": []
  }
 ],
 "metadata": {
  "kernelspec": {
   "display_name": "Python 3",
   "language": "python",
   "name": "python3"
  },
  "language_info": {
   "codemirror_mode": {
    "name": "ipython",
    "version": 3
   },
   "file_extension": ".py",
   "mimetype": "text/x-python",
   "name": "python",
   "nbconvert_exporter": "python",
   "pygments_lexer": "ipython3",
   "version": "3.6.1"
  }
 },
 "nbformat": 4,
 "nbformat_minor": 1
}
